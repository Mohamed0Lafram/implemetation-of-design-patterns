{
 "cells": [
  {
   "attachments": {
    "tool_pattern.png": {
     "image/png": "[encoded data removed]"
    }
   },
   "cell_type": "markdown",
   "id": "49d340ae",
   "metadata": {},
   "source": [
    "# 🛠️ Building the Tool Agent Pattern from Scratch in AI Agents\n",
    "\n",
    "![tool_pattern.png](attachment:tool_pattern.png)\n",
    "\n",
    "This notebook focuses on the Tool Agent Pattern—a foundational approach in AI agent design where the agent interacts with external tools, APIs, or functions to complete tasks it cannot solve through reasoning alone. Instead of being a standalone problem solver, the agent becomes an orchestrator that decides when and how to use available tools to achieve its goal.\n",
    "\n",
    "This pattern underpins many recent agent frameworks, such as LangChain, LangGraph, and OpenAI's Function Calling, and is a key ingredient in systems like AutoGPT, Toolformer, and ReAct.\n",
    "\n",
    "## 🔍 What You'll Learn:\n",
    "   #### How to build a tool-using agent from scratch\n",
    "   #### How to design and register tools for agent access\n",
    "   #### How the agent chooses and invokes the right tool based on natural language prompts and goals\n",
    "   #### How tool invocation fits into the reasoning + action cycle"
   ]
  },
  {
   "cell_type": "code",
   "execution_count": null,
   "id": "d5d475e7",
   "metadata": {},
   "outputs": [],
   "source": [
    "import re\n",
    "import json"
   ]
  },
  {
   "cell_type": "markdown",
   "id": "08e85980",
   "metadata": {},
   "source": [
    "## Upload the LLM API"
   ]
  },
  {
   "cell_type": "code",
   "execution_count": null,
   "id": "f9beb2e6",
   "metadata": {},
   "outputs": [],
   "source": [
    "from Utils.utils import llm"
   ]
  },
  {
   "cell_type": "markdown",
   "id": "0cbea405",
   "metadata": {},
   "source": [
    "# create  functions (tools)"
   ]
  },
  {
   "cell_type": "markdown",
   "id": "279a6f93",
   "metadata": {},
   "source": [
    "these functions are the tools that llm could use to generate a better awnser.\n",
    "the doc string of each function should be very describable of the function purpose and its arguments for llm to understand it and call it with right argument."
   ]
  },
  {
   "cell_type": "code",
   "execution_count": null,
   "id": "bf3a13d5",
   "metadata": {},
   "outputs": [],
   "source": [
    "#thoes are imagenary factors that don't mean nothing just to proove that the agent is using those function to generate the awnser\n",
    "def calculate_phynx_factor(a: int, b: int) -> int:\n",
    "    \"\"\"\n",
    "    Compute the 'phynx factor' for two integer inputs.\n",
    "\n",
    "    The phynx factor is defined as the square of the product of `a` and `b`.\n",
    "    Mathematically: phynx_factor = (a * b)²\n",
    "\n",
    "    Parameters:\n",
    "        a (int): The first input integer.\n",
    "        b (int): The second input integer.\n",
    "\n",
    "    Returns:\n",
    "        int: The computed phynx factor.\n",
    "    \"\"\"\n",
    "    print(f\"--- TOOL: Calculating phynx factor for {a} and {b} ---\")\n",
    "    return (a * b) ** 2\n",
    "\n",
    "\n",
    "def xex_factor(a:int , b:int) -> float:\n",
    "    \"\"\"\n",
    "    Compute the 'xex factor' for two integer inputs.\n",
    "\n",
    "    The xex factor is defined as the square of the product of `a` and `b`.\n",
    "    Mathematically: xexf actor = (a + b) / 20\n",
    "\n",
    "    Parameters:\n",
    "        a (int): The first input integer.\n",
    "        b (int): The second input integer.\n",
    "\n",
    "    Returns:\n",
    "        int: The computed xex factor.\n",
    "    \"\"\"\n",
    "    print(f\"--- TOOL: Calculating xex factor for {a} and {b} ---\")\n",
    "    \n",
    "    return (a + b) / 20\n",
    "\n"
   ]
  },
  {
   "cell_type": "markdown",
   "id": "d313bd9f",
   "metadata": {},
   "source": [
    "## Creating the system prmpt"
   ]
  },
  {
   "cell_type": "code",
   "execution_count": 67,
   "id": "e59e08b4",
   "metadata": {},
   "outputs": [],
   "source": [
    "systeme_prompt = '''\n",
    "You are a function calling AI model. You are provided with function signatures within <tools></tools> XML tags. \n",
    "You may call one or more functions to assist with the user query. Don't make assumptions about what values to plug \n",
    "into functions. Pay special attention to the properties 'types'. You should use those types as in a Python dict. \n",
    "For each function call return a json object with function name and arguments within <tool_call></tool_call> ,your awnser should contain only the tool call as follows:\n",
    "\n",
    "begin\n",
    "<tool_call>\n",
    "{\"name\": <function-name>,\"arguments\": <args-dict>}\n",
    "</tool_call>\n",
    "end\n",
    "\n",
    "Here are the available tools:\n",
    "\n",
    "<tools> {\n",
    "    \"name\": \"calculate_phynx_factor\",\n",
    "    \"description\": '\n",
    "    Compute the 'phynx factor' for two integer inputs.\n",
    "\n",
    "    The phynx factor is defined as the square of the product of `a` and `b`.\n",
    "    Mathematically: phynx_factor = (a * b)²\n",
    "\n",
    "    Parameters:\n",
    "        a (int): The first input integer.\n",
    "        b (int): The second input integer.\n",
    "\n",
    "    Returns:\n",
    "        int: The computed phynx factor.\n",
    "    ',\n",
    "    \"parameters\": {\n",
    "        \"properties\": {\n",
    "            \"a\": {\n",
    "                \"type\": \"int\"\n",
    "            },\n",
    "            \"b\": {\n",
    "                \"type\": \"int\"\n",
    "            }\n",
    "        }\n",
    "    }\n",
    "},\n",
    "{\n",
    "    \"name\": \"xex_factor\",\n",
    "    \"description\": 'this function calculate the xex factor',\n",
    "    \"parameters\": {\n",
    "        \"properties\": {\n",
    "            \"a\": {\n",
    "                \"type\": \"int\"\n",
    "            },\n",
    "            \"b\": {\n",
    "                \"type\": \"int\"\n",
    "            }\n",
    "        }\n",
    "    }\n",
    "}\n",
    "</tools>\n",
    "'''\n",
    "\n",
    "llm_history = [\n",
    "    {\n",
    "        'role' : 'system',\n",
    "        'content' : systeme_prompt\n",
    "    },\n",
    "    {\n",
    "        'role' : 'user',\n",
    "        'content' : 'what is the result of 1 and 50 using the sphynx factor'\n",
    "    }\n",
    "]"
   ]
  },
  {
   "cell_type": "markdown",
   "id": "c494cf3f",
   "metadata": {},
   "source": [
    "## ask the LLM to choose witch tool it need to generate the awnser"
   ]
  },
  {
   "cell_type": "code",
   "execution_count": null,
   "id": "0833474b",
   "metadata": {},
   "outputs": [],
   "source": [
    "#llm call\n",
    "llm_call = llm(llm_history[0]['content'] + llm_history[1]['content']) "
   ]
  },
  {
   "cell_type": "code",
   "execution_count": 69,
   "id": "f8ab5ac0",
   "metadata": {},
   "outputs": [
    {
     "data": {
      "text/plain": [
       "'begin\\n<tool_call>\\n{\"name\": \"calculate_phynx_factor\", \"arguments\": {\"a\": 1, \"b\": 50}}\\n</tool_call>\\nend\\n'"
      ]
     },
     "execution_count": 69,
     "metadata": {},
     "output_type": "execute_result"
    }
   ],
   "source": [
    "llm_call"
   ]
  },
  {
   "cell_type": "markdown",
   "id": "9fbdedd0",
   "metadata": {},
   "source": [
    "## turn the llm call into function calls "
   ]
  },
  {
   "cell_type": "code",
   "execution_count": null,
   "id": "a9731ef6",
   "metadata": {},
   "outputs": [
    {
     "name": "stdout",
     "output_type": "stream",
     "text": [
      "--- TOOL: Calculating phynx factor for 1 and 50 ---\n"
     ]
    },
    {
     "data": {
      "text/plain": [
       "{'result': 2500}"
      ]
     },
     "execution_count": 70,
     "metadata": {},
     "output_type": "execute_result"
    }
   ],
   "source": [
    "def parser(llm_response):\n",
    "    '''this function uses take as an argument the llm responce and parse it to call the function'''\n",
    "\n",
    "    #clean the llm_responce\n",
    "    pattern = r'</?(tool_call)> ?'\n",
    "    clean_tags = re.sub(pattern, '', llm_response)\n",
    "    clean_tags = clean_tags.replace('begin','')\n",
    "    clean_tags = clean_tags.replace('end', '')\n",
    "    clean_tags = clean_tags.replace('\\n','')\n",
    "\n",
    "    #turn the call in to json object\n",
    "    llm_call = json.loads(clean_tags)\n",
    "\n",
    "    #call the function \n",
    "    func_name = llm_call['name']\n",
    "    if func_name == 'calculate_phynx_factor':\n",
    "        result = calculate_phynx_factor(**llm_call['arguments'])\n",
    "        return {\n",
    "            'result' : result\n",
    "        }\n",
    "    elif func_name == xex_factor:\n",
    "        result = calculate_phynx_factor(**llm_call['arguments'])\n",
    "        return {\n",
    "            'result' : result\n",
    "        }\n",
    "    else :\n",
    "        return {\n",
    "            'result' : 'no tool was called'\n",
    "        }\n",
    "    #print(llm_call['arguments']['a'] + llm_call['arguments']['b'])"
   ]
  },
  {
   "cell_type": "code",
   "execution_count": null,
   "id": "3de9f83b",
   "metadata": {},
   "outputs": [],
   "source": [
    "parser(llm_call)"
   ]
  },
  {
   "cell_type": "markdown",
   "id": "c7ca3d89",
   "metadata": {},
   "source": [
    "## awnser the user query with the help of the tool result"
   ]
  },
  {
   "cell_type": "code",
   "execution_count": 71,
   "id": "9ed8c27c",
   "metadata": {},
   "outputs": [
    {
     "name": "stdout",
     "output_type": "stream",
     "text": [
      "--- TOOL: Calculating phynx factor for 1 and 50 ---\n"
     ]
    }
   ],
   "source": [
    "tools_result = parser(llm_call)\n",
    "user_prompt = llm_history[1]['content']\n",
    "llm_history.append(\n",
    "    {\n",
    "        'role' : 'system',\n",
    "        'content' : 'use the tool result to awnser this question '\n",
    "    }\n",
    ")\n",
    "\n",
    "llm_call2 = llm.generate_content(\n",
    "    model='gemini-2.0-flash',\n",
    "    contents=[str(llm_history[2]) + str(llm_history[1])+ str(tools_result) ]\n",
    ").text\n"
   ]
  },
  {
   "cell_type": "code",
   "execution_count": 72,
   "id": "11f30c9f",
   "metadata": {},
   "outputs": [
    {
     "data": {
      "text/plain": [
       "'The result of 1 and 50 using the Sphynx factor is 2500.\\n'"
      ]
     },
     "execution_count": 72,
     "metadata": {},
     "output_type": "execute_result"
    }
   ],
   "source": [
    "llm_call2"
   ]
  }
 ],
 "metadata": {
  "kernelspec": {
   "display_name": "patterns_venv (3.13.1)",
   "language": "python",
   "name": "python3"
  },
  "language_info": {
   "codemirror_mode": {
    "name": "ipython",
    "version": 3
   },
   "file_extension": ".py",
   "mimetype": "text/x-python",
   "name": "python",
   "nbconvert_exporter": "python",
   "pygments_lexer": "ipython3",
   "version": "3.13.1"
  }
 },
 "nbformat": 4,
 "nbformat_minor": 5
}
